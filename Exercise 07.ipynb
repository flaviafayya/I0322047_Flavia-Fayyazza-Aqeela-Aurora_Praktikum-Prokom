{
 "cells": [
  {
   "cell_type": "code",
   "execution_count": 9,
   "metadata": {},
   "outputs": [
    {
     "data": {
      "text/plain": [
       "[[1, 4], [3, 7]]"
      ]
     },
     "execution_count": 9,
     "metadata": {},
     "output_type": "execute_result"
    }
   ],
   "source": [
    "#Buatlah sebuah fungsi untuk membuat matrix berdasarkan input dari user\n",
    "\n",
    "def create_matriks(baris,kolom):\n",
    "    matriks = []\n",
    "\n",
    "    #Tulis kode kamu disini\n",
    "    for a in range(baris):\n",
    "        matriks.append([])\n",
    "        for b in range(kolom):\n",
    "            element=int(input(f\"masukkan elemen matriks[{a}][{b}]: \"))\n",
    "            matriks[a].append(element)\n",
    "\n",
    "    return matriks\n",
    "\n",
    "\n",
    "baris = int(input('Masukkan Jumlah Baris:\\t'))\n",
    "kolom = int(input('Masukkan Jumlah Kolom:\\t'))\n",
    "create_matriks(baris,kolom)"
   ]
  },
  {
   "cell_type": "code",
   "execution_count": 2,
   "metadata": {},
   "outputs": [
    {
     "data": {
      "text/plain": [
       "[[-6, -3], [1, -3]]"
      ]
     },
     "execution_count": 2,
     "metadata": {},
     "output_type": "execute_result"
    }
   ],
   "source": [
    "#Buatlah fungsi untuk melakukan pengurangan antar dua matrix berdasarkan input user\n",
    "\n",
    "def kurang_matrix(matriksA, matriksB):\n",
    "    kurang = [[0, 0],\n",
    "              [0, 0]]\n",
    "\n",
    "    #Tulis kode kamu disini\n",
    "    for a in range (len(matriksA)):\n",
    "        for b in range (len(matriksB[a])):\n",
    "            kurang[a][b]=matriksA[a][b]-matriksB[a][b]\n",
    "            \n",
    "    return kurang\n",
    "\n",
    "matriksA = [[1, 2],\n",
    "            [3, 4]]\n",
    "matriksB = [[7, 5],\n",
    "            [2, 7]]\n",
    "\n",
    "kurang_matrix(matriksA,matriksB)"
   ]
  },
  {
   "cell_type": "code",
   "execution_count": 4,
   "metadata": {},
   "outputs": [
    {
     "data": {
      "text/plain": [
       "[[1.5, 2.5], [2.0, 2.5]]"
      ]
     },
     "execution_count": 4,
     "metadata": {},
     "output_type": "execute_result"
    }
   ],
   "source": [
    "#Buatlah Fungsi untuk melakukan pembagian matrix dengan skalar berdasarkan input user\n",
    "\n",
    "def bagi_matrix(matrix1, skalar):\n",
    "    hasil = [[0, 0],\n",
    "             [0, 0]]\n",
    "\n",
    "\n",
    "    #Tulis kode kamu disini\n",
    "    for a in range(len(matrix1)):\n",
    "        for b in range (len(matrix1[a])):\n",
    "            hasil[a][b]=matrix1[a][b]/skalar\n",
    "\n",
    "    return hasil\n",
    "\n",
    "\n",
    "matrix1 = [[3, 5],\n",
    "           [4, 5]]\n",
    "skalar = int(input('Matrix dibagi berapa?\\t'))\n",
    "\n",
    "\n",
    "bagi_matrix(matrix1, skalar)"
   ]
  }
 ],
 "metadata": {
  "kernelspec": {
   "display_name": "Python 3",
   "language": "python",
   "name": "python3"
  },
  "language_info": {
   "codemirror_mode": {
    "name": "ipython",
    "version": 3
   },
   "file_extension": ".py",
   "mimetype": "text/x-python",
   "name": "python",
   "nbconvert_exporter": "python",
   "pygments_lexer": "ipython3",
   "version": "3.10.7"
  },
  "orig_nbformat": 4
 },
 "nbformat": 4,
 "nbformat_minor": 2
}
